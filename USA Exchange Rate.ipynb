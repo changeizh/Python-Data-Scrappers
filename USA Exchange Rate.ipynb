{
 "cells": [
  {
   "cell_type": "code",
   "execution_count": 2,
   "metadata": {},
   "outputs": [
    {
     "name": "stderr",
     "output_type": "stream",
     "text": [
      "C:\\Users\\Manish\\anaconda3\\lib\\site-packages\\ipykernel_launcher.py:35: SettingWithCopyWarning: \n",
      "A value is trying to be set on a copy of a slice from a DataFrame.\n",
      "Try using .loc[row_indexer,col_indexer] = value instead\n",
      "\n",
      "See the caveats in the documentation: https://pandas.pydata.org/pandas-docs/stable/user_guide/indexing.html#returning-a-view-versus-a-copy\n"
     ]
    }
   ],
   "source": [
    "# import libraries\n",
    "import time\n",
    "import os\n",
    "import pandas as pd\n",
    "import xlwings as xw\n",
    "from pytz import timezone\n",
    "from bs4 import BeautifulSoup\n",
    "from datetime import datetime,date\n",
    "from urllib.request import urlopen\n",
    "\n",
    "#open yahoo finance url for bs4\n",
    "url = 'https://sg.finance.yahoo.com/currencies'\n",
    "html = urlopen(url)\n",
    "#parse it to the bs4 html container\n",
    "soup = BeautifulSoup(html, 'html.parser')\n",
    "\n",
    "#\n",
    "names=[]\n",
    "prices=[]\n",
    "for i in range(40, 404, 14):\n",
    "    # find all lines in html\n",
    "    for listing in soup.find_all('tr', attrs={'data-reactid':i}):\n",
    "        # find all tabs in lines and append in lists\n",
    "        for name in listing.find_all('td', attrs={'data-reactid':i+3}):\n",
    "            names.append(name.text)\n",
    "        for price in listing.find_all('td', attrs={'data-reactid':i+4}):\n",
    "            prices.append(price.text)\n",
    "\n",
    "# create dataframe to store the lists\n",
    "currency=pd.DataFrame({'Date':None,\"Names\": names, \"Prices\": prices})\n",
    "# get value for USA-INDIA Exchange\n",
    "india_usa = currency[currency['Names']=='USD/INR']\n",
    "# set current date\n",
    "curr_Date = date.today().strftime(\"%d-%m-%Y\")\n",
    "india_usa['Date'] = curr_Date\n",
    "\n",
    "# create list to append to excel file\n",
    "for index, row in india_usa.iterrows():\n",
    "    append_list = [row.Date,row.Names,row.Prices]\n",
    "    \n",
    "\n",
    "# if excel file exist append else create and append\n",
    "file_name = \"USA_INDIA_EXCHANGE RATE.xlsx\"\n",
    "if os.path.exists(file_name):\n",
    "    #load excel file\n",
    "    workbook = xw.Book(file_name)\n",
    "    #   get sheet index 0 \n",
    "    worksheet = workbook.sheets['Sheet1']\n",
    "    rows = worksheet.range('A' + str(worksheet.cells.last_cell.row)).end('up').row\n",
    "    #append data\n",
    "    worksheet.range(\"A\"+str(rows+1)).value = append_list\n",
    "    # save and close()\n",
    "    workbook.save()\n",
    "    workbook.close()\n",
    "    \n",
    "else:\n",
    "    workbook = xw.Book()\n",
    "    worksheet = workbook.sheets['Sheet1']\n",
    "    worksheet.range(\"A1\").value = ['Date','Names','Rate']\n",
    "    rows = worksheet.range('A' + str(worksheet.cells.last_cell.row)).end('up').row\n",
    "    worksheet.range(\"A\"+str(rows+1)).value = append_list\n",
    "    workbook.save(file_name)\n",
    "    workbook.close()"
   ]
  },
  {
   "cell_type": "code",
   "execution_count": null,
   "metadata": {},
   "outputs": [],
   "source": []
  }
 ],
 "metadata": {
  "kernelspec": {
   "display_name": "Python 3",
   "language": "python",
   "name": "python3"
  },
  "language_info": {
   "codemirror_mode": {
    "name": "ipython",
    "version": 3
   },
   "file_extension": ".py",
   "mimetype": "text/x-python",
   "name": "python",
   "nbconvert_exporter": "python",
   "pygments_lexer": "ipython3",
   "version": "3.7.6"
  }
 },
 "nbformat": 4,
 "nbformat_minor": 4
}
