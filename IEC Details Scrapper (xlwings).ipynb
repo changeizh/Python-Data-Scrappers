{
 "cells": [
  {
   "cell_type": "markdown",
   "metadata": {},
   "source": [
    "# IEC Scrapper\n",
    "\n",
    "1. This scrapper mines IEC details from https://www.dgft.delhi.nic.in for Importer Exporter Details using IEC Code and IEC Name.\n",
    "\n",
    "2. Select the Excel file where :\n",
    "    1. IEC Code in Column A\n",
    "    2. Importer/Exporter Name in Column B\n",
    "    3. Log as Blank (Scrapped IEC Details Status (Found or not) will be store in this Column)\n",
    "  \n",
    "3. A new sheet gets added named IEC Details containing the details of Importer/Exporter.\n",
    "\n",
    "4. If a detail is not found, check www.icegate.gov.in for any change in IEC and try again on https://www.dgft.delhi.nic.in\n",
    "\n",
    "5. Enter the Captcha text."
   ]
  },
  {
   "cell_type": "code",
   "execution_count": 1,
   "metadata": {},
   "outputs": [],
   "source": [
    "def DGFT():\n",
    "# write data read Excel new sheet created as IEC Details\n",
    "    IEC = driver.find_element_by_css_selector('body > table:nth-child(2) > tbody > tr:nth-child(2) > td:nth-child(3)')\n",
    "    writeData(x, \"B\", IEC.text)\n",
    "        \n",
    "    allotdate = driver.find_element_by_css_selector('body > table:nth-child(2) > tbody > tr:nth-child(3) > td:nth-child(3)')\n",
    "    writeData(x, \"C\", allotdate.text)\n",
    "        \n",
    "    file_num = driver.find_element_by_css_selector('body > table:nth-child(2) > tbody > tr:nth-child(4) > td:nth-child(3)')\n",
    "    writeData(x, \"D\", file_num.text)\n",
    "        \n",
    "    file_date = driver.find_element_by_css_selector('body > table:nth-child(2) > tbody > tr:nth-child(5) > td:nth-child(3)')\n",
    "    writeData(x, \"E\", file_date.text)\n",
    "        \n",
    "    pand = driver.find_element_by_css_selector('body > table:nth-child(2) > tbody > tr:nth-child(6) > td:nth-child(3)')\n",
    "    writeData(x, \"F\", pand.text)\n",
    "        \n",
    "#     w_phone_num = phone_num.text\n",
    "    phone_num = driver.find_element_by_css_selector('body > table:nth-child(2) > tbody > tr:nth-child(7) > td:nth-child(3)')\n",
    "    writeData(x, \"G\", phone_num.text)\n",
    "    \n",
    "#     w_email = email.text    \n",
    "    email = driver.find_element_by_css_selector('body > table:nth-child(2) > tbody > tr:nth-child(8) > td:nth-child(3)')\n",
    "    writeData(x, \"H\", email.text)\n",
    "        \n",
    "#     w_extype = extype.text        \n",
    "    extype = driver.find_element_by_css_selector('body > table:nth-child(2) > tbody > tr:nth-child(9) > td:nth-child(3)')\n",
    "    writeData(x, \"I\", extype.text)\n",
    "        \n",
    "#     w_status = status.text       \n",
    "    status = driver.find_element_by_css_selector('body > table:nth-child(2) > tbody > tr:nth-child(10) > td:nth-child(3)')\n",
    "    writeData(x, \"J\", status.text)\n",
    "        \n",
    "#     w_estd = estd.text        \n",
    "    estd = driver.find_element_by_css_selector('body > table:nth-child(2) > tbody > tr:nth-child(11) > td:nth-child(3)')\n",
    "    writeData(x, \"K\", estd.text)\n",
    "        \n",
    "#     w_binpan = binpan.text        \n",
    "    binpan = driver.find_element_by_css_selector('body > table:nth-child(2) > tbody > tr:nth-child(12) > td:nth-child(3)')\n",
    "    writeData(x, \"L\", binpan.text)\n",
    "        \n",
    "#     w_panissue = panissue.text        \n",
    "    panissue = driver.find_element_by_css_selector('body > table:nth-child(2) > tbody > tr:nth-child(13) > td:nth-child(3)')\n",
    "    writeData(x, \"M\", panissue.text)\n",
    "        \n",
    "#     w_p_issue_by = p_issue_by.text        \n",
    "    p_issue_by = driver.find_element_by_css_selector('body > table:nth-child(2) > tbody > tr:nth-child(14) > td:nth-child(3)')\n",
    "    writeData(x, \"N\", p_issue_by.text)\n",
    "        \n",
    "#     w_concern = concern.text       \n",
    "    concern = driver.find_element_by_css_selector('body > table:nth-child(2) > tbody > tr:nth-child(15) > td:nth-child(3)')\n",
    "    writeData(x, \"O\", concern.text)\n",
    "        \n",
    "#     w_banker = banker.text        \n",
    "    banker = driver.find_element_by_css_selector('body > table:nth-child(2) > tbody > tr:nth-child(16) > td:nth-child(3)')\n",
    "    writeData(x, \"P\", banker.text)\n",
    "        \n",
    "        \n",
    "    director = driver.find_element_by_css_selector('body > table:nth-child(7)')\n",
    "    writeData(x, \"Q\", director.text)\n",
    "        \n",
    "    sheet.range(\"C\"+str(x)).value = \"Done\"\n",
    "    \n",
    "\n",
    "def ICEGATE():\n",
    "    \n",
    "    iec3 = driver.find_element_by_css_selector('#pagetable > tbody > tr:nth-child(2) > td:nth-child(2)')\n",
    "    writeData(x, \"B\", iec3.text)\n",
    "    \n",
    "    name = driver.find_element_by_css_selector('#pagetable > tbody > tr:nth-child(3) > td:nth-child(2)')\n",
    "    writeData(x, \"F\", name.text)\n",
    "    \n",
    "    add1 = driver.find_element_by_css_selector('#pagetable > tbody > tr:nth-child(4) > td:nth-child(2)')\n",
    "    writeData(x, \"S\", add1.text)\n",
    "    \n",
    "    add2 = driver.find_element_by_css_selector('#pagetable > tbody > tr:nth-child(5) > td:nth-child(2)')\n",
    "    writeData(x, \"T\", add2.text)\n",
    "    \n",
    "    add3 = driver.find_element_by_css_selector('#pagetable > tbody > tr:nth-child(6) > td:nth-child(2)')\n",
    "    writeData(x, \"U\", add3.text)\n",
    "    \n",
    "    status = driver.find_element_by_css_selector('#pagetable > tbody > tr:nth-child(7) > td:nth-child(2)')\n",
    "    writeData(x, \"I\", status.text)\n",
    "    \n",
    "    pan = driver.find_element_by_css_selector('#pagetable > tbody > tr:nth-child(8) > td:nth-child(2)')\n",
    "    writeData(x, \"L\", pan.text)\n",
    "    \n",
    "\n",
    "\n",
    "def left(string, num):\n",
    "    return string[:num]\n",
    "\n",
    "\n",
    "# function to read Data from Excel Sheet\n",
    "def readData(rownum, column_name):\n",
    "    rownum1 = str(rownum) \n",
    "    cell = column_name+rownum1\n",
    "    return sheet.range(cell).value\n",
    "#     return sheet.cell(row = rownum, column = columnno).value\n",
    "\n",
    "\n",
    "# function to write Data from Excel Sheet\n",
    "def writeData(rownum, column_name, data):\n",
    "    rownum1 = str(rownum)\n",
    "    cell = column_name+ str(rownum)\n",
    "    sheet2.range(cell).value= data\n",
    "#     workbook.save(path_file)"
   ]
  },
  {
   "cell_type": "code",
   "execution_count": 2,
   "metadata": {},
   "outputs": [],
   "source": [
    "import xlwings as xw\n",
    "from selenium import webdriver\n",
    "from selenium.webdriver.support.ui import WebDriverWait\n",
    "from selenium.webdriver.support import expected_conditions as cond\n",
    "from selenium.webdriver.common.by import By\n",
    "from tqdm import tqdm_notebook\n",
    "from tqdm import tqdm\n",
    "from selenium.common.exceptions import*\n",
    "from selenium.common.exceptions import*\n",
    "from tkinter import*\n",
    "from tkinter.filedialog import askopenfilename\n",
    "import time\n",
    "import urllib\n",
    "import os "
   ]
  },
  {
   "cell_type": "code",
   "execution_count": 3,
   "metadata": {
    "scrolled": true
   },
   "outputs": [],
   "source": [
    "# upload excel file\n",
    "root =Tk()\n",
    "root.update()\n",
    "path_file = askopenfilename(initialdir = \"C://Users//Manish//Desktop\", title= \"Select file\", filetypes = [('Excel file', \"*.xlsx *.xls, *.csv\")])\n",
    "root.destroy()\n",
    "\n",
    "# load Workbook and Sheet\n",
    "# fit()\n",
    "workbook= xw.Book(path_file)\n",
    "# sheet = workbook[\"Sheet1\"]  \n",
    "workbook.save(path_file)"
   ]
  },
  {
   "cell_type": "code",
   "execution_count": 4,
   "metadata": {},
   "outputs": [],
   "source": [
    "sheet = workbook.sheets[0]\n",
    "sheet2 = workbook.sheets.add('IEC_Details')\n",
    "list = ['IEC','IEC','Allotment Date','File Number','File Date','Party Name and Address','Phone No','e_mail','Exporter Type','IEC Status','Date of Establishment','BIN (PAN+Extension)','PAN ISSUE DATE','PAN ISSUED BY','Nature Of Concern','Banker Detail','Directors','Address','add1','add2','add3']\n",
    "sheet2.range(\"A1:A22\").value = list\n",
    "rows = sheet.range('A' + str(sheet.cells.last_cell.row)).end('up').row"
   ]
  },
  {
   "cell_type": "code",
   "execution_count": 5,
   "metadata": {},
   "outputs": [],
   "source": [
    "#path to the chromedriver\n",
    "driver = webdriver.Chrome(executable_path=\"chromedriver.exe\")\n",
    "driver.set_page_load_timeout(20)\n",
    "\n",
    "#url to the website data to be retrieve\n",
    "url = \"http://dgft.delhi.nic.in:8100/dgft/IecPrint\""
   ]
  },
  {
   "cell_type": "code",
   "execution_count": 6,
   "metadata": {
    "scrolled": false
   },
   "outputs": [
    {
     "name": "stderr",
     "output_type": "stream",
     "text": [
      "C:\\ProgramData\\Anaconda3\\lib\\site-packages\\ipykernel_launcher.py:18: TqdmDeprecationWarning: This function will be removed in tqdm==5.0.0\n",
      "Please use `tqdm.notebook.tqdm` instead of `tqdm.tqdm_notebook`\n"
     ]
    },
    {
     "data": {
      "application/vnd.jupyter.widget-view+json": {
       "model_id": "8072d5c2764f4749a11a7733edb7eeef",
       "version_major": 2,
       "version_minor": 0
      },
      "text/plain": [
       "HBox(children=(FloatProgress(value=0.0, description='Progress...', max=912.0, style=ProgressStyle(description_…"
      ]
     },
     "metadata": {},
     "output_type": "display_data"
    },
    {
     "name": "stdout",
     "output_type": "stream",
     "text": [
      "\n",
      "No record found for 10 items\n"
     ]
    }
   ],
   "source": [
    "while(True):\n",
    "    try:\n",
    "        data = urllib.request.urlopen(url)\n",
    "        driver.get(url)\n",
    "        break\n",
    "    except:\n",
    "        time.sleep(10)\n",
    "        continue\n",
    "        \n",
    "\n",
    "\n",
    "options = webdriver.ChromeOptions()\n",
    "options.add_argument('--ignore-certificate-errors')\n",
    "\n",
    "sheet.range(\"C1\").value = \"Log Report\"\n",
    "\n",
    "count = 0\n",
    "for x in tqdm_notebook(range(2, rows+1), desc= \"Progress...\"):\n",
    "    log = readData(x,\"C\")\n",
    "    if log is None:\n",
    "        iec = readData(x,\"A\")\n",
    "        importer = readData(x,\"B\")\n",
    "        importer= importer.replace('  ', ' ')\n",
    "        importer = left(importer, 4)\n",
    "        iec= str(iec).split('.')[0]\n",
    "        if len(iec)< 10:\n",
    "            iec = \"0\"+iec\n",
    "        writeData(x, \"A\", iec)\n",
    "        try:\n",
    "            WebDriverWait(driver, 1).until(cond.presence_of_element_located((By.NAME,\"iec\"))).send_keys(iec)\n",
    "        except:\n",
    "            driver.get(url)\n",
    "            WebDriverWait(driver, 1).until(cond.presence_of_element_located((By.NAME,\"iec\"))).send_keys(iec)\n",
    "            \n",
    "        WebDriverWait(driver, 1).until(cond.presence_of_element_located((By.NAME,\"name\"))).send_keys(importer)\n",
    "        WebDriverWait(driver, 1).until(cond.element_to_be_clickable((By.NAME, ''))).click()\n",
    "        \n",
    "        try:\n",
    "            WebDriverWait(driver, 1).until(cond.presence_of_element_located((By.CSS_SELECTOR,\"body > table:nth-child(2) > tbody > tr:nth-child(2) > td:nth-child(3)\")))\n",
    "        except:\n",
    "            driver.back()\n",
    "            driver.refresh()\n",
    "            writeData(x, \"B\", \"No Record DGFT\")\n",
    "            count = count+1\n",
    "            sheet.range(\"C\"+str(x)).value = \"Oops\"\n",
    "            continue\n",
    "        \n",
    "        # function to write data to excel from website\n",
    "        DGFT()\n",
    "#         time.sleep(2)\n",
    "        driver.back()\n",
    "        driver.refresh()\n",
    "    else:\n",
    "        continue\n",
    "\n",
    "print(\"No record found for {} items\".format(count))\n",
    "sheet.range(\"I6\").value = \"DGFT : No record found for {} items\".format(count)\n",
    "workbook.save(path_file)"
   ]
  },
  {
   "cell_type": "code",
   "execution_count": 7,
   "metadata": {},
   "outputs": [
    {
     "name": "stdout",
     "output_type": "stream",
     "text": [
      "Enter the captcha...TOOigK\n"
     ]
    }
   ],
   "source": [
    "driver.get(url=\"https://www.icegate.gov.in/EnqMod/\")\n",
    "captcha = input(\"Enter the captcha...\")"
   ]
  },
  {
   "cell_type": "code",
   "execution_count": 8,
   "metadata": {},
   "outputs": [
    {
     "name": "stderr",
     "output_type": "stream",
     "text": [
      "C:\\ProgramData\\Anaconda3\\lib\\site-packages\\ipykernel_launcher.py:2: TqdmDeprecationWarning: This function will be removed in tqdm==5.0.0\n",
      "Please use `tqdm.notebook.tqdm` instead of `tqdm.tqdm_notebook`\n",
      "  \n"
     ]
    },
    {
     "data": {
      "application/vnd.jupyter.widget-view+json": {
       "model_id": "4762c3c62b284af0ba0ef334a30228a9",
       "version_major": 2,
       "version_minor": 0
      },
      "text/plain": [
       "HBox(children=(FloatProgress(value=0.0, description='Getting data from ICEGATE website...', max=912.0, style=P…"
      ]
     },
     "metadata": {},
     "output_type": "display_data"
    },
    {
     "name": "stdout",
     "output_type": "stream",
     "text": [
      "\n"
     ]
    }
   ],
   "source": [
    "count1 = 0\n",
    "for x in tqdm_notebook(range(2, rows+1), desc = \"Getting data from ICEGATE website...\"):\n",
    "    if (sheet.range(\"C\"+str(x)).value) == \"Oops\" or (sheet.range(\"C\"+str(x)).value) == \"Sorry:(\":\n",
    "        iec2 = (sheet.range(\"A\"+str(x)).value)\n",
    "        iec2= str(iec2).split('.')[0]\n",
    "        if len(iec2)< 10:\n",
    "            iec2 = \"0\"+iec2\n",
    "        \n",
    "    else:\n",
    "        continue\n",
    "        \n",
    "    WebDriverWait(driver, 2).until(cond.presence_of_element_located((By.ID, 'searchIECode'))).send_keys(iec2)\n",
    "    driver.find_element_by_id('captchaResp').send_keys(captcha)\n",
    "    try:\n",
    "        WebDriverWait(driver, 2).until(cond.element_to_be_clickable((By.CSS_SELECTOR,'#pagetable > tbody > tr:nth-child(4) > td:nth-child(3) > dl > dd > a'))).click()\n",
    "    except:\n",
    "        driver.forward()\n",
    "        driver.back()\n",
    "        WebDriverWait(driver, 2).until(cond.presence_of_element_located((By.ID, 'searchIECode'))).send_keys(iec2)\n",
    "        driver.find_element_by_id('captchaResp').send_keys(captcha)\n",
    "        WebDriverWait(driver, 2).until(cond.element_to_be_clickable((By.CSS_SELECTOR,'#pagetable > tbody > tr:nth-child(4) > td:nth-child(3) > dl > dd > a'))).click()\n",
    "        \n",
    "    try:\n",
    "        WebDriverWait(driver, 2).until(cond.presence_of_element_located((By.CSS_SELECTOR,'#pagetable > tbody > tr:nth-child(2) > td:nth-child(2)')))\n",
    "    except:\n",
    "        writeData(x, \"B\", \"No record available\")\n",
    "        sheet.range(\"C\"+str(x)).value = \"Sorry:(\"\n",
    "        count1 = count1+1\n",
    "        driver.back()\n",
    "        continue\n",
    "    ICEGATE()\n",
    "    driver.back()\n",
    "\n",
    "sheet.range(\"I6\").value = \"ICEGATE : No record found {} \".format(count1)\n",
    "\n",
    "workbook.save(path_file)"
   ]
  },
  {
   "cell_type": "code",
   "execution_count": 9,
   "metadata": {
    "scrolled": true
   },
   "outputs": [
    {
     "name": "stderr",
     "output_type": "stream",
     "text": [
      "C:\\ProgramData\\Anaconda3\\lib\\site-packages\\ipykernel_launcher.py:3: TqdmDeprecationWarning: This function will be removed in tqdm==5.0.0\n",
      "Please use `tqdm.notebook.tqdm` instead of `tqdm.tqdm_notebook`\n",
      "  This is separate from the ipykernel package so we can avoid doing imports until\n"
     ]
    },
    {
     "data": {
      "application/vnd.jupyter.widget-view+json": {
       "model_id": "f0caa64e528d44ba8f8b849228c93017",
       "version_major": 2,
       "version_minor": 0
      },
      "text/plain": [
       "HBox(children=(FloatProgress(value=0.0, description='Finishing...', max=912.0, style=ProgressStyle(description…"
      ]
     },
     "metadata": {},
     "output_type": "display_data"
    },
    {
     "name": "stdout",
     "output_type": "stream",
     "text": [
      "\n",
      "No record found for 0 items\n"
     ]
    }
   ],
   "source": [
    "driver.get(url)\n",
    "count = 0\n",
    "for x in tqdm_notebook(range(2, rows+1), desc = \"Finishing...\"):\n",
    "    if (sheet.range(\"C\"+str(x)).value)== \"Oops\" or (sheet.range(\"C\"+str(x)).value) == \"Sorry:(\":\n",
    "        iec4 = (sheet2.range(\"A\"+str(x)).value)\n",
    "        impor = (sheet2.range(\"F\"+str(x)).value)\n",
    "        iec4= str(iec4).split('.')[0]\n",
    "        if len(iec4)< 10:\n",
    "            iec4 = \"0\"+iec4\n",
    "        impor = (sheet2.range(\"F\"+str(x)).value)\n",
    "    \n",
    "        try:\n",
    "#             impor= impor.replace('.', '')\n",
    "            impor= impor.replace('  ', '')\n",
    "#             impor = impor.replace(\" \",\"\")\n",
    "            impor = left(impor,6)\n",
    "        except:\n",
    "            continue\n",
    "        try:\n",
    "            WebDriverWait(driver, 1).until(cond.presence_of_element_located((By.NAME,\"iec\"))).send_keys(iec4)\n",
    "        except:\n",
    "            continue\n",
    "            driver.get(url)\n",
    "            WebDriverWait(driver, 1).until(cond.presence_of_element_located((By.NAME,\"iec\"))).send_keys(iec4)\n",
    "            \n",
    "        WebDriverWait(driver, 1).until(cond.presence_of_element_located((By.NAME,\"name\"))).send_keys(impor)\n",
    "        WebDriverWait(driver, 1).until(cond.element_to_be_clickable((By.NAME, ''))).click()\n",
    "        \n",
    "        try:\n",
    "            WebDriverWait(driver, 1).until(cond.presence_of_element_located((By.CSS_SELECTOR,\"body > table:nth-child(2) > tbody > tr:nth-child(2) > td:nth-child(3)\")))\n",
    "        except:\n",
    "            driver.back()\n",
    "            driver.refresh()\n",
    "            writeData(x, \"B\", \"Partial Data\")\n",
    "            count = count+1\n",
    "            sheet.range(\"C\"+str(x)).value = \"Sorry:(\"\n",
    "            continue\n",
    "        \n",
    "        DGFT()\n",
    "        time.sleep(3)\n",
    "        sheet.range(\"C\"+str(x)).value = \"Done\"\n",
    "        driver.back()\n",
    "        driver.refresh()\n",
    "    else:\n",
    "        continue\n",
    "print(\"No record found for {} items\".format(count))\n",
    "sheet.range(\"I7\").value = \"DGFT : No record found for {} items\".format(count)\n",
    "workbook.save(path_file)"
   ]
  },
  {
   "cell_type": "code",
   "execution_count": 10,
   "metadata": {},
   "outputs": [],
   "source": [
    "driver.close()\n",
    "workbook.save(path_file)"
   ]
  },
  {
   "cell_type": "code",
   "execution_count": null,
   "metadata": {},
   "outputs": [],
   "source": []
  }
 ],
 "metadata": {
  "kernelspec": {
   "display_name": "Python 3",
   "language": "python",
   "name": "python3"
  },
  "language_info": {
   "codemirror_mode": {
    "name": "ipython",
    "version": 3
   },
   "file_extension": ".py",
   "mimetype": "text/x-python",
   "name": "python",
   "nbconvert_exporter": "python",
   "pygments_lexer": "ipython3",
   "version": "3.7.6"
  }
 },
 "nbformat": 4,
 "nbformat_minor": 2
}
