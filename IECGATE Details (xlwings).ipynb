{
 "cells": [
  {
   "cell_type": "code",
   "execution_count": 1,
   "metadata": {},
   "outputs": [],
   "source": [
    "def ICEGATE():\n",
    "    \n",
    "    iec3 = driver.find_element_by_css_selector('#pagetable > tbody > tr:nth-child(2) > td:nth-child(2)')\n",
    "    writeData(x, \"F\", iec3.text)\n",
    "    \n",
    "    name = driver.find_element_by_css_selector('#pagetable > tbody > tr:nth-child(3) > td:nth-child(2)')\n",
    "    writeData(x, \"G\", name.text)\n",
    "    \n",
    "    add1 = driver.find_element_by_css_selector('#pagetable > tbody > tr:nth-child(4) > td:nth-child(2)')\n",
    "    writeData(x, \"H\", add1.text)\n",
    "    \n",
    "    add2 = driver.find_element_by_css_selector('#pagetable > tbody > tr:nth-child(5) > td:nth-child(2)')\n",
    "    writeData(x, \"I\", add2.text)\n",
    "    \n",
    "    add3 = driver.find_element_by_css_selector('#pagetable > tbody > tr:nth-child(6) > td:nth-child(2)')\n",
    "    writeData(x, \"J\", add3.text)\n",
    "    \n",
    "    status = driver.find_element_by_css_selector('#pagetable > tbody > tr:nth-child(7) > td:nth-child(2)')\n",
    "    writeData(x, \"N\", status.text)\n",
    "    \n",
    "    pan = driver.find_element_by_css_selector('#pagetable > tbody > tr:nth-child(8) > td:nth-child(2)')\n",
    "    writeData(x, \"M\", pan.text)\n",
    "    \n",
    "def left(string, num):\n",
    "    return string[:num]\n",
    "\n",
    "\n",
    "# function to read Data from Excel Sheet\n",
    "def readData(rownum, column_name):\n",
    "    rownum1 = str(rownum) \n",
    "    cell = column_name+rownum1\n",
    "    return sheet.range(cell).value\n",
    "#     return sheet.cell(row = rownum, column = columnno).value\n",
    "\n",
    "\n",
    "# function to write Data from Excel Sheet\n",
    "def writeData(rownum, column_name, data):\n",
    "    rownum1 = str(rownum)\n",
    "    cell = column_name+ str(rownum)\n",
    "    sheet.range(cell).value= data"
   ]
  },
  {
   "cell_type": "code",
   "execution_count": 2,
   "metadata": {},
   "outputs": [],
   "source": [
    "import xlwings as xw\n",
    "from selenium import webdriver\n",
    "from selenium.webdriver.support.ui import WebDriverWait\n",
    "from selenium.webdriver.support import expected_conditions as cond\n",
    "from selenium.webdriver.common.by import By\n",
    "from tqdm import tqdm_notebook\n",
    "from selenium.common.exceptions import*\n",
    "from tkinter import*\n",
    "import time \n",
    "from tkinter.filedialog import askopenfilename"
   ]
  },
  {
   "cell_type": "code",
   "execution_count": 3,
   "metadata": {},
   "outputs": [],
   "source": [
    "# upload excel file\n",
    "root =Tk()\n",
    "root.update()\n",
    "path_file = askopenfilename(initialdir = \"C://Users//Manish//Desktop\", title= \"Select file\", filetypes = [('Excel file', \"*.xlsx *.xls, *.csv\")])\n",
    "root.destroy()\n",
    "\n",
    "# load Workbook and Sheet\n",
    "# fit()\n",
    "workbook= xw.Book(path_file)\n",
    "# sheet = workbook[\"Sheet1\"]  \n",
    "workbook.save(path_file)\n",
    "sheet = workbook.sheets[0]\n",
    "rows = sheet.range('A' + str(sheet.cells.last_cell.row)).end('up').row"
   ]
  },
  {
   "cell_type": "code",
   "execution_count": 4,
   "metadata": {},
   "outputs": [
    {
     "name": "stdout",
     "output_type": "stream",
     "text": [
      "Enter the captcha...dBx5Mu\n"
     ]
    }
   ],
   "source": [
    "\n",
    "#path to the chromedriver\n",
    "driver = webdriver.Chrome(executable_path=\"chromedriver.exe\")\n",
    "driver.set_page_load_timeout(20)\n",
    "driver.get(url=\"https://www.icegate.gov.in/EnqMod/\")\n",
    "captcha = input(\"Enter the captcha...\")"
   ]
  },
  {
   "cell_type": "code",
   "execution_count": 10,
   "metadata": {},
   "outputs": [
    {
     "name": "stderr",
     "output_type": "stream",
     "text": [
      "C:\\Users\\Manish\\anaconda3\\lib\\site-packages\\ipykernel_launcher.py:2: TqdmDeprecationWarning: This function will be removed in tqdm==5.0.0\n",
      "Please use `tqdm.notebook.tqdm` instead of `tqdm.tqdm_notebook`\n",
      "  \n"
     ]
    },
    {
     "data": {
      "application/vnd.jupyter.widget-view+json": {
       "model_id": "b6acc1cd6a704bd587a8551ed7c34e71",
       "version_major": 2,
       "version_minor": 0
      },
      "text/plain": [
       "HBox(children=(FloatProgress(value=0.0, description='Getting data from ICEGATE website...', max=4018.0, style=…"
      ]
     },
     "metadata": {},
     "output_type": "display_data"
    },
    {
     "name": "stdout",
     "output_type": "stream",
     "text": [
      "\n"
     ]
    }
   ],
   "source": [
    "count1 = 0\n",
    "for x in tqdm_notebook(range(2, rows+1), desc = \"Getting data from ICEGATE website...\"):\n",
    "    if (sheet.range(\"F\"+str(x)).value) == \"NULL\" :\n",
    "        iec = (sheet.range(\"B\"+str(x)).value)\n",
    "        iec= str(iec).split('.')[0]\n",
    "        if len(iec)< 10:\n",
    "            iec = \"0\"+iec\n",
    "        else:\n",
    "            pass\n",
    "    else:\n",
    "        continue\n",
    "        \n",
    "    WebDriverWait(driver, 2).until(cond.presence_of_element_located((By.ID, 'searchIECode'))).send_keys(iec)\n",
    "    driver.find_element_by_id('captchaResp').send_keys(captcha)\n",
    "    \n",
    "    try:\n",
    "        WebDriverWait(driver, 2).until(cond.element_to_be_clickable((By.CSS_SELECTOR,'#pagetable > tbody > tr:nth-child(4) > td:nth-child(3) > dl > dd > a'))).click()\n",
    "        time.sleep(1)\n",
    "    except:\n",
    "        driver.forward()\n",
    "        driver.back()\n",
    "        WebDriverWait(driver, 2).until(cond.presence_of_element_located((By.ID, 'searchIECode'))).send_keys(iec)\n",
    "        driver.find_element_by_id('captchaResp').send_keys(captcha)\n",
    "        WebDriverWait(driver, 2).until(cond.element_to_be_clickable((By.CSS_SELECTOR,'#pagetable > tbody > tr:nth-child(4) > td:nth-child(3) > dl > dd > a'))).click()\n",
    "        \n",
    "    try:\n",
    "        WebDriverWait(driver, 2).until(cond.presence_of_element_located((By.CSS_SELECTOR,'#pagetable > tbody > tr:nth-child(2) > td:nth-child(2)')))\n",
    "    except:\n",
    "        writeData(x, \"E\", \"No record available\")\n",
    "        count1 = count1+1\n",
    "        driver.back()\n",
    "        continue\n",
    "    ICEGATE()\n",
    "    driver.back()\n",
    "\n",
    "sheet.range(\"AC6\").value = \"ICEGATE : No record found {} \".format(count1)\n",
    "\n",
    "workbook.save(path_file)\n",
    "driver.close()"
   ]
  },
  {
   "cell_type": "code",
   "execution_count": 11,
   "metadata": {},
   "outputs": [],
   "source": []
  },
  {
   "cell_type": "code",
   "execution_count": null,
   "metadata": {},
   "outputs": [],
   "source": []
  }
 ],
 "metadata": {
  "kernelspec": {
   "display_name": "Python 3",
   "language": "python",
   "name": "python3"
  },
  "language_info": {
   "codemirror_mode": {
    "name": "ipython",
    "version": 3
   },
   "file_extension": ".py",
   "mimetype": "text/x-python",
   "name": "python",
   "nbconvert_exporter": "python",
   "pygments_lexer": "ipython3",
   "version": "3.7.6"
  }
 },
 "nbformat": 4,
 "nbformat_minor": 4
}
