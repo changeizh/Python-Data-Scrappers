{
 "cells": [
  {
   "cell_type": "markdown",
   "metadata": {},
   "source": [
    "# IEC Scrappeer\n",
    "\n",
    "This scrapper mines data from www.icegate.gov.in for missing IEC Codes of Shipping Bill (Export).\n",
    "\n",
    "Select the Excel file where :\n",
    "    1. Location (Port Name) in Column A\n",
    "    2. Shipping Bill Number in Column C\n",
    "    3. Shipping Bill Date in Column B\n",
    "    4. Log as NULL (Scrapped CHA Name will be store in this Column D)\n",
    "    \n",
    "Enter the Captcha text and click on Chrome Driver to pass the active instance as Chrome."
   ]
  },
  {
   "cell_type": "code",
   "execution_count": null,
   "metadata": {},
   "outputs": [],
   "source": [
    "# import xlwings as xw\n",
    "from selenium import webdriver\n",
    "from selenium.webdriver.support.ui import WebDriverWait\n",
    "from selenium.webdriver.support import expected_conditions as cond\n",
    "from selenium.webdriver.common.by import By\n",
    "from tqdm import tqdm\n",
    "from tqdm import tqdm_notebook\n",
    "from selenium.common.exceptions import*\n",
    "# from selenium.common.exceptions import NoSuchElementException\n",
    "from tkinter.filedialog import askopenfilename\n",
    "from tkinter import*\n",
    "import win32com.client as win\n",
    "\n",
    "\n",
    "# window to select the excel file containing data\n",
    "root =Tk()\n",
    "root.update()\n",
    "path_file = filedialog.askopenfilename(initialdir = 'C://Users//data2//Desktop//IEC To Fetch', title = \"Select your Excel file that contains input data:\") \n",
    "root.destroy()\n",
    "\n",
    "\n",
    "# load Workbook and Sheet\n",
    "workbook= xw.Book(path_file)\n",
    "# sheet = workbook[\"Sheet1\"]  \n",
    "sheet = workbook.sheets[\"Sheet1\"]\n",
    "\n",
    "# function to read Data from Excel Sheet\n",
    "def readData(column_name, rownum):\n",
    "    rownum1 = str(rownum) \n",
    "    cell = column_name+rownum1\n",
    "    return sheet.range(cell).value\n",
    "#     return sheet.cell(row = rownum, column = columnno).value\n",
    "\n",
    "# function to write Data from Excel Sheet\n",
    "def writeData(column_name, rownum, data):\n",
    "    rownum1 = str(rownum)\n",
    "    cell = column_name+ str(rownum)\n",
    "    sheet.range(cell).value= data\n",
    "\n",
    "#path to the chromedriver\n",
    "driver = webdriver.Chrome(executable_path=\"chromedriver.exe\") \n",
    "driver.set_page_load_timeout(10)\n",
    "\n",
    "\n",
    "#url to the website data to be retrieve\n",
    "driver.get(\"https://enquiry.icegate.gov.in/enquiryatices/sbTrack\")"
   ]
  },
  {
   "cell_type": "code",
   "execution_count": 8,
   "metadata": {},
   "outputs": [
    {
     "name": "stdout",
     "output_type": "stream",
     "text": [
      "Enter the captcha: tiE9A2\n"
     ]
    }
   ],
   "source": [
    "captchatxt = input(\"Enter the captcha: \")"
   ]
  },
  {
   "cell_type": "code",
   "execution_count": 9,
   "metadata": {},
   "outputs": [
    {
     "name": "stderr",
     "output_type": "stream",
     "text": [
      "C:\\ProgramData\\Anaconda3\\lib\\site-packages\\ipykernel_launcher.py:3: TqdmDeprecationWarning: This function will be removed in tqdm==5.0.0\n",
      "Please use `tqdm.notebook.tqdm` instead of `tqdm.tqdm_notebook`\n",
      "  This is separate from the ipykernel package so we can avoid doing imports until\n"
     ]
    },
    {
     "data": {
      "application/vnd.jupyter.widget-view+json": {
       "model_id": "58683e9e0ef24ee491a12b719e472047",
       "version_major": 2,
       "version_minor": 0
      },
      "text/plain": [
       "HBox(children=(FloatProgress(value=0.0, description='Progress...', max=203.0, style=ProgressStyle(description_…"
      ]
     },
     "metadata": {},
     "output_type": "display_data"
    },
    {
     "name": "stdout",
     "output_type": "stream",
     "text": [
      "\n",
      "No record found for 0 items\n"
     ]
    }
   ],
   "source": [
    "#send data to the textbox\n",
    "count = 0\n",
    "for x in tqdm_notebook(range(2, 205), desc = \"Progress...\"):\n",
    "    log = readData(\"D\", x)\n",
    "    driver.set_page_load_timeout(5)\n",
    "    if log is None:\n",
    "        location = readData(\"A\", x)\n",
    "        sb_date = readData(\"B\",x)\n",
    "        sb_num = readData(\"C\",x)\n",
    "        try:\n",
    "            sb_num = int(sb_num)\n",
    "        except:\n",
    "            pass\n",
    "        #send data to form\n",
    "        WebDriverWait(driver, 5).until(cond.presence_of_element_located((By.ID, \"location\"))).send_keys(location)\n",
    "        driver.find_element_by_id('sbNO').send_keys(sb_num)\n",
    "   \n",
    "\n",
    "    #send date after remove calender\n",
    "        sbDATE = driver.find_element_by_id('sbDATE')\n",
    "        driver.execute_script(\"arguments[0].removeAttribute('readonly')\", sbDATE)\n",
    "        sbDATE.send_keys(sb_date)\n",
    "\n",
    "        \n",
    "    # send the captcha entered manually\n",
    "        driver.find_element_by_id('captchaResp').send_keys(captchatxt)\n",
    "        \n",
    "        \n",
    "    # click submit button\n",
    "#     try:\n",
    "        submit = WebDriverWait(driver,5).until(cond.element_to_be_clickable((By.ID,'SubB')))\n",
    "        submit.click()\n",
    "#         except :\n",
    "#             try:\n",
    "#                 wsh= win.Dispatch(\"WScript.Shell\")\n",
    "#                 wsh.AppActivate(\"Chrome\")# select another application\n",
    "#                 wsh.SendKeys('{F5}')\n",
    "#             except:\n",
    "#                 try:\n",
    "#                     wsh= win.Dispatch(\"WScript.Shell\")\n",
    "#                     wsh.AppActivate(\"Chrome\")# select another application\n",
    "#                     wsh.SendKeys('{F5}')\n",
    "#                     wsh.SendKeys('{F5}')\n",
    "#                 except:\n",
    "#                     try:\n",
    "#                         wsh= win.Dispatch(\"WScript.Shell\")\n",
    "#                         wsh.AppActivate(\"Chrome\")# select another application\n",
    "#                         wsh.SendKeys('{F5}')\n",
    "#                         wsh.SendKeys('{F5}')\n",
    "#                     except:\n",
    "#                         try:\n",
    "#                             wsh= win.Dispatch(\"WScript.Shell\")\n",
    "#                             wsh.AppActivate(\"Chrome\")# select another application\n",
    "#                             wsh.SendKeys('{F5}')\n",
    "#                             wsh.SendKeys('{F5}')\n",
    "#                         except:\n",
    "#                             wsh= win.Dispatch(\"WScript.Shell\")\n",
    "#                             wsh.AppActivate(\"Chrome\")# select another application\n",
    "#                             wsh.SendKeys('{F5}')\n",
    "#                             wsh.SendKeys('{F5}')\n",
    "                        \n",
    "                        \n",
    "        try:\n",
    "            submit1 = WebDriverWait(driver, 5).until(cond.element_to_be_clickable((By.CLASS_NAME, \"page_button\")))\n",
    "            submit1.click()\n",
    "        except:\n",
    "            try:\n",
    "#                 submit = WebDriverWait(driver,5).until(cond.element_to_be_clickable((By.ID,'SubB')))\n",
    "#                 submit.click()\n",
    "#                 driver.set_page_load_timeout(3)\n",
    "#                 driver.forward()\n",
    "#                 driver.back()\n",
    "                submit = WebDriverWait(driver,5).until(cond.element_to_be_clickable((By.ID,'SubB')))\n",
    "                submit.click()\n",
    "            except:\n",
    "                home= None\n",
    "                retry = 0\n",
    "                driver.set_page_load_timeout(3)\n",
    "                while home is None and retry<10:\n",
    "                    try:\n",
    "                        submit1 = WebDriverWait(driver, 1).until(cond.element_to_be_clickable((By.CLASS_NAME, \"page_button\")))\n",
    "                        submit1.click()\n",
    "                        home= WebDriverWait(driver, 1).until(cond.presence_of_element_located((By.CSS_SELECTOR, \"#nav > li.current > a\"))).text.split(\"&\")\n",
    "                    except:\n",
    "                        wsh= win.Dispatch(\"WScript.Shell\")\n",
    "                        wsh.AppActivate(\"Chrome\")\n",
    "                        wsh.SendKeys('{F5}')\n",
    "                        retry+=1\n",
    "             \n",
    "\n",
    "        \n",
    "        try:\n",
    "            temp_iec = WebDriverWait(driver, 1).until(cond.presence_of_element_located((By.CSS_SELECTOR, \"#sbICES_Details > center > div > table > tbody > tr.tdText > td:nth-child(1)\"))).text.split(\"&\")\n",
    "        except:\n",
    "            writeData(\"D\", x, 'Sorry :(')\n",
    "            count = count+1\n",
    "            driver.implicitly_wait(1)\n",
    "            driver.back()\n",
    "            continue\n",
    "            \n",
    "#         try:\n",
    "#             temp_fob = driver.find_element_by_css_selector(\"#sbICES_Details > center > div > table > tbody > tr.tdText > td:nth-child(8)\").text.split(\"&\")\n",
    "#            # temp_total =WebDriverWait(driver, 1).until(cond.presence_of_element_located((By.CSS_SELECTOR, \"#beICES_Details > center > div > table > tbody > tr:nth-child(2) > td:nth-child(2)\"))).text.split(\"&\")\n",
    "#         except:\n",
    "#             pass\n",
    "        iec = temp_iec[0]\n",
    "#         fob = temp_fob[0]\n",
    "        writeData(\"D\", x, iec) \n",
    "#         writeData(\"E\", x, fob)\n",
    "        driver.set_page_load_timeout(10)\n",
    "        driver.implicitly_wait(1) \n",
    "        driver.back()\n",
    "    else:\n",
    "        continue\n",
    "# In[ ]:\n",
    "driver.quit()\n",
    "writeData(\"K\", 11, \"No record found for {} items\".format(count))\n",
    "print(\"No record found for {} items\".format(count))\n",
    "workbook.save(path_file)"
   ]
  },
  {
   "cell_type": "code",
   "execution_count": 10,
   "metadata": {},
   "outputs": [],
   "source": [
    "driver.quit()"
   ]
  },
  {
   "cell_type": "code",
   "execution_count": null,
   "metadata": {},
   "outputs": [],
   "source": []
  }
 ],
 "metadata": {
  "kernelspec": {
   "display_name": "Python 3",
   "language": "python",
   "name": "python3"
  },
  "language_info": {
   "codemirror_mode": {
    "name": "ipython",
    "version": 3
   },
   "file_extension": ".py",
   "mimetype": "text/x-python",
   "name": "python",
   "nbconvert_exporter": "python",
   "pygments_lexer": "ipython3",
   "version": "3.7.6"
  }
 },
 "nbformat": 4,
 "nbformat_minor": 2
}
